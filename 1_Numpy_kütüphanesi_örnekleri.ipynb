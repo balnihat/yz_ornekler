{
  "nbformat": 4,
  "nbformat_minor": 0,
  "metadata": {
    "colab": {
      "provenance": [],
      "authorship_tag": "ABX9TyMd074KFqjRPKvLKxI4V7J9",
      "include_colab_link": true
    },
    "kernelspec": {
      "name": "python3",
      "display_name": "Python 3"
    },
    "language_info": {
      "name": "python"
    }
  },
  "cells": [
    {
      "cell_type": "markdown",
      "metadata": {
        "id": "view-in-github",
        "colab_type": "text"
      },
      "source": [
        "<a href=\"https://colab.research.google.com/github/balnihat/yz_ornekler/blob/main/1_Numpy_k%C3%BCt%C3%BCphanesi_%C3%B6rnekleri.ipynb\" target=\"_parent\"><img src=\"https://colab.research.google.com/assets/colab-badge.svg\" alt=\"Open In Colab\"/></a>"
      ]
    },
    {
      "cell_type": "markdown",
      "source": [
        "# NumPy Kütüphanesi Örnekleri"
      ],
      "metadata": {
        "id": "Iodj_Dx5sS6t"
      }
    },
    {
      "cell_type": "markdown",
      "source": [
        "#### Kütüphaneyi içe aktarma"
      ],
      "metadata": {
        "id": "EYdOJEysshDG"
      }
    },
    {
      "cell_type": "code",
      "execution_count": null,
      "metadata": {
        "id": "g4HypMcHsQ3U"
      },
      "outputs": [],
      "source": [
        "import numpy as np"
      ]
    },
    {
      "cell_type": "markdown",
      "source": [
        "#### Numpy dizileri ve python listeleri"
      ],
      "metadata": {
        "id": "uhDcHR1zsmOK"
      }
    },
    {
      "cell_type": "code",
      "source": [
        "liste=[1,5,7,10,15,20,22,30]\n",
        "np_liste=np.array(liste)\n",
        "print(\"liste verileri \",liste,\"\\n veri tipi\",type(liste))\n",
        "print(\"numpy liste verileri \",np_liste,\"\\n veri tipi\",type(np_liste))"
      ],
      "metadata": {
        "colab": {
          "base_uri": "https://localhost:8080/"
        },
        "id": "tAO4xmLCspMg",
        "outputId": "c7fa1b12-5663-4e4f-dba7-63cce0de9000"
      },
      "execution_count": null,
      "outputs": [
        {
          "output_type": "stream",
          "name": "stdout",
          "text": [
            "liste verileri  [1, 5, 7, 10, 15, 20, 22, 30] \n",
            " veri tipi <class 'list'>\n",
            "numpy liste verileri  [ 1  5  7 10 15 20 22 30] \n",
            " veri tipi <class 'numpy.ndarray'>\n"
          ]
        }
      ]
    },
    {
      "cell_type": "markdown",
      "source": [
        "####Listeden numpy dizisi oluşturma"
      ],
      "metadata": {
        "id": "3SUBhz2lyXwQ"
      }
    },
    {
      "cell_type": "code",
      "source": [
        "sayilar=np.array([1,5,7,10,15,20,22,30])\n",
        "print(\"sayilar \",sayilar,\"\\n veri tipi\",type(sayilar))"
      ],
      "metadata": {
        "colab": {
          "base_uri": "https://localhost:8080/"
        },
        "id": "cb-J5dNRxlZs",
        "outputId": "d9b5f52d-08fe-477b-ceae-48437ec3bdf3"
      },
      "execution_count": null,
      "outputs": [
        {
          "output_type": "stream",
          "name": "stdout",
          "text": [
            "sayilar  [ 1  5  7 10 15 20 22 30] \n",
            " veri tipi <class 'numpy.ndarray'>\n"
          ]
        }
      ]
    },
    {
      "cell_type": "markdown",
      "source": [
        "#### Numpy dizilerine istenen verilere erişme"
      ],
      "metadata": {
        "id": "r1XjLPIbGCzj"
      }
    },
    {
      "cell_type": "code",
      "source": [
        "print(\"ilk sayı=\",sayilar[0])\n",
        "print(\"ikinci sayı=\",sayilar[1])\n",
        "print(\"son sayı=\",sayilar[-1])"
      ],
      "metadata": {
        "colab": {
          "base_uri": "https://localhost:8080/"
        },
        "id": "HPPEGFC-F9Mt",
        "outputId": "751d97b5-3f24-4277-a6ea-6c1467084648"
      },
      "execution_count": null,
      "outputs": [
        {
          "output_type": "stream",
          "name": "stdout",
          "text": [
            "ilk sayı= 1\n",
            "ikinci sayı= 5\n",
            "son sayı= 30\n"
          ]
        }
      ]
    },
    {
      "cell_type": "code",
      "source": [
        "print(\"tüm sayılar=\",sayilar[:])\n",
        "print(\"ilk iki sayı=\",sayilar[0:2])\n",
        "print(\"iki dört arası sayılar=\",sayilar[1:4])\n",
        "print(\"üçten sona kadar olan sayılar =\",sayilar[2:])\n",
        "yarisi=int(len(sayilar)/2)\n",
        "print(\"ilk yarısı\",sayilar[:yarisi])\n",
        "print(\"diğer yarısı\",sayilar[yarisi:])"
      ],
      "metadata": {
        "colab": {
          "base_uri": "https://localhost:8080/"
        },
        "id": "5XWYpns-RXma",
        "outputId": "cd9b6588-91ca-4442-c1a8-273c3a683eb2"
      },
      "execution_count": null,
      "outputs": [
        {
          "output_type": "stream",
          "name": "stdout",
          "text": [
            "tüm sayılar= [ 1  5  7 10 15 20 22 30]\n",
            "ilk iki sayı= [1 5]\n",
            "iki dört arası sayılar= [ 5  7 10]\n",
            "üçten sona kadar olan sayılar = [ 7 10 15 20 22 30]\n",
            "ilk yarısı [ 1  5  7 10]\n",
            "diğer yarısı [15 20 22 30]\n"
          ]
        }
      ]
    },
    {
      "cell_type": "markdown",
      "source": [
        "Numpy dizileri üretme"
      ],
      "metadata": {
        "id": "vIg9kr-Ah_mM"
      }
    },
    {
      "cell_type": "code",
      "source": [
        "np.arange(10)"
      ],
      "metadata": {
        "colab": {
          "base_uri": "https://localhost:8080/"
        },
        "id": "YoC9Z19yiItx",
        "outputId": "c6a066bf-8342-4da3-b8a0-6b91f2de511c"
      },
      "execution_count": null,
      "outputs": [
        {
          "output_type": "execute_result",
          "data": {
            "text/plain": [
              "array([0, 1, 2, 3, 4, 5, 6, 7, 8, 9])"
            ]
          },
          "metadata": {},
          "execution_count": 10
        }
      ]
    },
    {
      "cell_type": "code",
      "source": [
        "np.arange(10,20)"
      ],
      "metadata": {
        "colab": {
          "base_uri": "https://localhost:8080/"
        },
        "id": "qhHjJyNoiMRK",
        "outputId": "fb7d2452-bb98-47b4-e63d-2e05d85f02f2"
      },
      "execution_count": null,
      "outputs": [
        {
          "output_type": "execute_result",
          "data": {
            "text/plain": [
              "array([10, 11, 12, 13, 14, 15, 16, 17, 18, 19])"
            ]
          },
          "metadata": {},
          "execution_count": 11
        }
      ]
    },
    {
      "cell_type": "code",
      "source": [
        "np.arange(20,50,2)"
      ],
      "metadata": {
        "colab": {
          "base_uri": "https://localhost:8080/"
        },
        "id": "s0tg_-HAiPpv",
        "outputId": "6397097a-09d5-4208-88b9-26996732c1c2"
      },
      "execution_count": null,
      "outputs": [
        {
          "output_type": "execute_result",
          "data": {
            "text/plain": [
              "array([20, 22, 24, 26, 28, 30, 32, 34, 36, 38, 40, 42, 44, 46, 48])"
            ]
          },
          "metadata": {},
          "execution_count": 12
        }
      ]
    },
    {
      "cell_type": "code",
      "source": [
        "np.zeros(5)"
      ],
      "metadata": {
        "id": "QIUllWd-e1rA",
        "colab": {
          "base_uri": "https://localhost:8080/"
        },
        "outputId": "72ad94aa-71d2-4b29-a0aa-08573305f05a"
      },
      "execution_count": null,
      "outputs": [
        {
          "output_type": "execute_result",
          "data": {
            "text/plain": [
              "array([0., 0., 0., 0., 0.])"
            ]
          },
          "metadata": {},
          "execution_count": 9
        }
      ]
    },
    {
      "cell_type": "code",
      "source": [
        "np.zeros((5,5))"
      ],
      "metadata": {
        "colab": {
          "base_uri": "https://localhost:8080/"
        },
        "id": "a_fKkltuiVcG",
        "outputId": "0fbd317c-13a3-4086-d940-8b6ebfa0e268"
      },
      "execution_count": null,
      "outputs": [
        {
          "output_type": "execute_result",
          "data": {
            "text/plain": [
              "array([[0., 0., 0., 0., 0.],\n",
              "       [0., 0., 0., 0., 0.],\n",
              "       [0., 0., 0., 0., 0.],\n",
              "       [0., 0., 0., 0., 0.],\n",
              "       [0., 0., 0., 0., 0.]])"
            ]
          },
          "metadata": {},
          "execution_count": 14
        }
      ]
    },
    {
      "cell_type": "code",
      "source": [
        "np.ones(5)"
      ],
      "metadata": {
        "colab": {
          "base_uri": "https://localhost:8080/"
        },
        "id": "y2ppYpQ2kgjD",
        "outputId": "1f5f85cc-e250-47f0-e812-be3ab9f9e950"
      },
      "execution_count": null,
      "outputs": [
        {
          "output_type": "execute_result",
          "data": {
            "text/plain": [
              "array([1., 1., 1., 1., 1.])"
            ]
          },
          "metadata": {},
          "execution_count": 15
        }
      ]
    },
    {
      "cell_type": "code",
      "source": [
        "np.ones(5)*10"
      ],
      "metadata": {
        "colab": {
          "base_uri": "https://localhost:8080/"
        },
        "id": "QsBYeQ0HkvG8",
        "outputId": "3670bda9-d12b-4844-c5ca-0f0f4fae5204"
      },
      "execution_count": null,
      "outputs": [
        {
          "output_type": "execute_result",
          "data": {
            "text/plain": [
              "array([10., 10., 10., 10., 10.])"
            ]
          },
          "metadata": {},
          "execution_count": 17
        }
      ]
    },
    {
      "cell_type": "code",
      "source": [
        "np.ones((3,5))"
      ],
      "metadata": {
        "colab": {
          "base_uri": "https://localhost:8080/"
        },
        "id": "X5DxJp5ikzxm",
        "outputId": "bc0289ea-abce-445b-f1ef-f9704166f663"
      },
      "execution_count": null,
      "outputs": [
        {
          "output_type": "execute_result",
          "data": {
            "text/plain": [
              "array([[1., 1., 1., 1., 1.],\n",
              "       [1., 1., 1., 1., 1.],\n",
              "       [1., 1., 1., 1., 1.]])"
            ]
          },
          "metadata": {},
          "execution_count": 19
        }
      ]
    },
    {
      "cell_type": "code",
      "source": [
        "np.linspace(0,10,20)"
      ],
      "metadata": {
        "colab": {
          "base_uri": "https://localhost:8080/"
        },
        "id": "8uj2AgFbwyii",
        "outputId": "7b9923ec-5e1b-4d25-c7ba-028fbf47a0c0"
      },
      "execution_count": null,
      "outputs": [
        {
          "output_type": "execute_result",
          "data": {
            "text/plain": [
              "array([ 0.        ,  0.52631579,  1.05263158,  1.57894737,  2.10526316,\n",
              "        2.63157895,  3.15789474,  3.68421053,  4.21052632,  4.73684211,\n",
              "        5.26315789,  5.78947368,  6.31578947,  6.84210526,  7.36842105,\n",
              "        7.89473684,  8.42105263,  8.94736842,  9.47368421, 10.        ])"
            ]
          },
          "metadata": {},
          "execution_count": 20
        }
      ]
    },
    {
      "cell_type": "code",
      "source": [
        "np.eye(4) # birim matris"
      ],
      "metadata": {
        "colab": {
          "base_uri": "https://localhost:8080/"
        },
        "id": "YGlmLAdJxhC7",
        "outputId": "dafd039e-bc3a-49cc-80f7-cc7461744575"
      },
      "execution_count": null,
      "outputs": [
        {
          "output_type": "execute_result",
          "data": {
            "text/plain": [
              "array([[1., 0., 0., 0.],\n",
              "       [0., 1., 0., 0.],\n",
              "       [0., 0., 1., 0.],\n",
              "       [0., 0., 0., 1.]])"
            ]
          },
          "metadata": {},
          "execution_count": 21
        }
      ]
    },
    {
      "cell_type": "markdown",
      "source": [
        "Rasgele sayı üretme"
      ],
      "metadata": {
        "id": "G4_V0OBcx8qf"
      }
    },
    {
      "cell_type": "code",
      "source": [
        "np.random.rand(5)"
      ],
      "metadata": {
        "colab": {
          "base_uri": "https://localhost:8080/"
        },
        "id": "Np3xL4liyBHj",
        "outputId": "5082e9bc-df49-458f-f578-f058dc71cba8"
      },
      "execution_count": null,
      "outputs": [
        {
          "output_type": "execute_result",
          "data": {
            "text/plain": [
              "array([0.53511266, 0.34799789, 0.13736947, 0.75478238, 0.28071511])"
            ]
          },
          "metadata": {},
          "execution_count": 23
        }
      ]
    },
    {
      "cell_type": "code",
      "source": [
        "np.random.rand(4,3)"
      ],
      "metadata": {
        "colab": {
          "base_uri": "https://localhost:8080/"
        },
        "id": "e3WG41IVyOlH",
        "outputId": "976af8da-5015-46fa-9bf4-dccd27fcfe05"
      },
      "execution_count": null,
      "outputs": [
        {
          "output_type": "execute_result",
          "data": {
            "text/plain": [
              "array([[0.19858199, 0.4470885 , 0.384815  ],\n",
              "       [0.96167992, 0.96526471, 0.73410878],\n",
              "       [0.05761981, 0.47905692, 0.53333482],\n",
              "       [0.15867293, 0.21099881, 0.3351488 ]])"
            ]
          },
          "metadata": {},
          "execution_count": 24
        }
      ]
    },
    {
      "cell_type": "code",
      "source": [
        "np.random.randn(10) # normal dağılıma göre rasgele sayı üretme"
      ],
      "metadata": {
        "colab": {
          "base_uri": "https://localhost:8080/"
        },
        "id": "t_XxSy6XyjTB",
        "outputId": "06cc2286-c848-49ea-af51-ed4988c5e1c2"
      },
      "execution_count": null,
      "outputs": [
        {
          "output_type": "execute_result",
          "data": {
            "text/plain": [
              "array([-0.31781842,  1.57620205,  1.2897002 ,  0.40861184, -0.70681136,\n",
              "        0.04384442,  1.04292941,  0.41938332, -0.53484666, -1.09726195])"
            ]
          },
          "metadata": {},
          "execution_count": 25
        }
      ]
    },
    {
      "cell_type": "code",
      "source": [
        "np.random.randn(6,6) # normal dağılıma göre 2 boyutlu rasgele sayı üretme"
      ],
      "metadata": {
        "colab": {
          "base_uri": "https://localhost:8080/"
        },
        "id": "JJBKBKRRytKL",
        "outputId": "3ac7d262-3921-45ab-cd90-bbc6fe2d5c55"
      },
      "execution_count": null,
      "outputs": [
        {
          "output_type": "execute_result",
          "data": {
            "text/plain": [
              "array([[-1.49943245e-01,  1.21206516e+00,  9.35877430e-01,\n",
              "         4.18140153e-01,  2.87222942e+00,  2.56133437e-01],\n",
              "       [-7.67837840e-01, -3.22895872e-02, -1.97349303e+00,\n",
              "         1.39133591e+00,  2.86068093e-03,  6.99524077e-01],\n",
              "       [-1.73657272e-01, -7.21355983e-01,  6.75519049e-01,\n",
              "         3.51897002e-03, -9.11744236e-01,  5.84482800e-01],\n",
              "       [ 1.18850550e+00, -1.85298023e+00,  1.99115139e-01,\n",
              "         3.61711002e-01, -6.26998530e-01, -7.33002217e-01],\n",
              "       [-8.47834927e-01, -6.18089151e-01,  8.85532675e-01,\n",
              "        -1.57004294e+00,  9.19255036e-01, -1.11353521e+00],\n",
              "       [-1.19189948e+00, -9.81485889e-01, -1.98959084e-01,\n",
              "        -1.62636038e+00,  1.27282321e-01,  1.01113823e+00]])"
            ]
          },
          "metadata": {},
          "execution_count": 26
        }
      ]
    },
    {
      "cell_type": "code",
      "source": [
        "np.random.randint(1,50) # 1(dahil) ile 50 (dahil değil) arası ragele  bir sayı üretme"
      ],
      "metadata": {
        "colab": {
          "base_uri": "https://localhost:8080/"
        },
        "id": "aDBm2olny4LB",
        "outputId": "067e7096-d2cc-4a76-dc89-8e3ebd443a25"
      },
      "execution_count": null,
      "outputs": [
        {
          "output_type": "execute_result",
          "data": {
            "text/plain": [
              "47"
            ]
          },
          "metadata": {},
          "execution_count": 27
        }
      ]
    },
    {
      "cell_type": "code",
      "source": [
        "sayilar=np.random.randint(1,100,10) # 1(dahil) ile 100 (dahil değil) arası ragele  10 sayı üretme\n",
        "print(\"sayilar dizisi eleman sayısı           =\",sayilar.size)\n",
        "print(\"sayilar dizisini şekli                 =\",sayilar.shape)\n",
        "print(\"sayilar dizinin en büyük değeri        =\",sayilar.max())\n",
        "print(\"sayilar dizinin en küçük değeri        =\",sayilar.min())\n",
        "print(\"sayilar dizisi en büyük değerin konumu =\",sayilar.argmax())\n",
        "print(\"sayilar dizisi en küçük değerin konumu =\",sayilar.argmin())"
      ],
      "metadata": {
        "colab": {
          "base_uri": "https://localhost:8080/"
        },
        "id": "mVJ0JOHtzVFw",
        "outputId": "45a31dcd-dc1c-41ad-ff5a-899b9a772f36"
      },
      "execution_count": null,
      "outputs": [
        {
          "output_type": "stream",
          "name": "stdout",
          "text": [
            "sayilar dizisi eleman sayısı           = 10\n",
            "sayilar dizisini şekli                 = (10,)\n",
            "sayilar dizinin en büyük değeri        = 92\n",
            "sayilar dizinin en küçük değeri        = 7\n",
            "sayilar dizisi en büyük değerin konumu = 2\n",
            "sayilar dizisi en küçük değerin konumu = 7\n"
          ]
        }
      ]
    },
    {
      "cell_type": "markdown",
      "source": [
        "Numpy dizisinin boyutunu değiştirme"
      ],
      "metadata": {
        "id": "PlKBQ4uM0dOw"
      }
    },
    {
      "cell_type": "code",
      "source": [
        "print(sayilar.size)\n",
        "sayilar.reshape(5,2) # 5 satır ve 2 sütun\n"
      ],
      "metadata": {
        "colab": {
          "base_uri": "https://localhost:8080/"
        },
        "id": "CtT60Hcj0OOy",
        "outputId": "3ba6e056-1b04-4d46-cc01-65ef0c08ff16"
      },
      "execution_count": null,
      "outputs": [
        {
          "output_type": "stream",
          "name": "stdout",
          "text": [
            "10\n"
          ]
        },
        {
          "output_type": "execute_result",
          "data": {
            "text/plain": [
              "array([[55, 45],\n",
              "       [71, 64],\n",
              "       [93, 80],\n",
              "       [99, 68],\n",
              "       [56, 35]])"
            ]
          },
          "metadata": {},
          "execution_count": 35
        }
      ]
    },
    {
      "cell_type": "code",
      "source": [
        "# referans yoluya veri alınca orjinal kopyada değişim olur\n",
        "yeni_sayilar=np.random.randint(1,250,50)\n",
        "print(yeni_sayilar)\n",
        "yarisi=yeni_sayilar[:10]\n",
        "print(yarisi)\n",
        "yarisi[:]=50\n",
        "print(yarisi)\n",
        "print(yeni_sayilar)"
      ],
      "metadata": {
        "colab": {
          "base_uri": "https://localhost:8080/"
        },
        "id": "oYlIKUi0G-oJ",
        "outputId": "161c5f7b-ed7a-4d17-a897-ab5170702436"
      },
      "execution_count": null,
      "outputs": [
        {
          "output_type": "stream",
          "name": "stdout",
          "text": [
            "[212 174 216 141 224 232  52  16 108 127  53 124  96  98 176 102  16 169\n",
            " 143 174 219 141 227  97 126 205 189  29 165  93  83  84 134  43 167 227\n",
            "  25  26  31  73   5 232   1 191 210  68 139 173 209  12]\n",
            "[212 174 216 141 224 232  52  16 108 127]\n",
            "[50 50 50 50 50 50 50 50 50 50]\n",
            "[ 50  50  50  50  50  50  50  50  50  50  53 124  96  98 176 102  16 169\n",
            " 143 174 219 141 227  97 126 205 189  29 165  93  83  84 134  43 167 227\n",
            "  25  26  31  73   5 232   1 191 210  68 139 173 209  12]\n"
          ]
        }
      ]
    },
    {
      "cell_type": "code",
      "source": [
        "# copy yoluya veri alınca orjinal kopyada değişim olmaz\n",
        "yeni_sayilar=np.random.randint(1,250,50)\n",
        "print(yeni_sayilar)\n",
        "yarisi=yeni_sayilar[:10]\n",
        "yeni_yarisi=yarisi.copy()\n",
        "print(yeni_yarisi)\n",
        "yeni_yarisi[:]=50\n",
        "print(yeni_yarisi)\n",
        "print(yeni_sayilar)"
      ],
      "metadata": {
        "colab": {
          "base_uri": "https://localhost:8080/"
        },
        "id": "6tT2kKnvIC82",
        "outputId": "e3337a6b-1576-4774-e617-53d66e8eab01"
      },
      "execution_count": null,
      "outputs": [
        {
          "output_type": "stream",
          "name": "stdout",
          "text": [
            "[ 43 113  95  20 210 167 155 174 194 118  55  35   1  66 203 166  18 241\n",
            " 226  60  38 239 150  94 210 193  69 139  61 201 212 209 136  64  65 167\n",
            " 233 119 220  60 131 174 127 190 162 195  52  60  59 166]\n",
            "[ 43 113  95  20 210 167 155 174 194 118]\n",
            "[50 50 50 50 50 50 50 50 50 50]\n",
            "[ 43 113  95  20 210 167 155 174 194 118  55  35   1  66 203 166  18 241\n",
            " 226  60  38 239 150  94 210 193  69 139  61 201 212 209 136  64  65 167\n",
            " 233 119 220  60 131 174 127 190 162 195  52  60  59 166]\n"
          ]
        }
      ]
    },
    {
      "cell_type": "code",
      "source": [
        "ornek_sayilar=np.random.randint(1,250,20).reshape(5,4)\n",
        "ornek_sayilar"
      ],
      "metadata": {
        "colab": {
          "base_uri": "https://localhost:8080/"
        },
        "id": "R2zE12nQJUpk",
        "outputId": "073173eb-43ec-4304-e514-0617983cb255"
      },
      "execution_count": null,
      "outputs": [
        {
          "output_type": "execute_result",
          "data": {
            "text/plain": [
              "array([[ 41, 194,  22, 188],\n",
              "       [117, 103,  32, 231],\n",
              "       [  2, 157, 212, 225],\n",
              "       [161, 111, 159, 243],\n",
              "       [ 37,  80,  19,   4]])"
            ]
          },
          "metadata": {},
          "execution_count": 54
        }
      ]
    },
    {
      "cell_type": "markdown",
      "source": [
        "Çok boyutlu dizilerde seçim işlemi"
      ],
      "metadata": {
        "id": "pXQW2Fd8XT4W"
      }
    },
    {
      "cell_type": "code",
      "source": [
        "print(\"ilk satır\",ornek_sayilar[0])\n",
        "print(\"ilk değer\",ornek_sayilar[0][0])\n",
        "print(\"son değer\",ornek_sayilar[4][3])\n",
        "print(\"son değer\",ornek_sayilar[-1][-1])"
      ],
      "metadata": {
        "colab": {
          "base_uri": "https://localhost:8080/"
        },
        "id": "YF5j94dxRUDb",
        "outputId": "b706a6f4-7c4f-48f0-8e14-18ee5436bb90"
      },
      "execution_count": null,
      "outputs": [
        {
          "output_type": "stream",
          "name": "stdout",
          "text": [
            "ilk satır [ 41 194  22 188]\n",
            "ilk değer 41\n",
            "son değer 4\n",
            "son değer 4\n",
            "son değer [[  2 157 212 225]]\n"
          ]
        }
      ]
    },
    {
      "cell_type": "code",
      "source": [
        "print(\"ilk değer\",ornek_sayilar[0,0])\n",
        "print(\"son değer\",ornek_sayilar[4,3])\n",
        "print(\"son değer\",ornek_sayilar[-1,-1])\n",
        "print(\"son değer\\n\",ornek_sayilar[1:3,1:3])"
      ],
      "metadata": {
        "colab": {
          "base_uri": "https://localhost:8080/"
        },
        "id": "w0bWmDqhXM48",
        "outputId": "dd138d55-a277-48a6-a3ad-40b1987c1e89"
      },
      "execution_count": null,
      "outputs": [
        {
          "output_type": "stream",
          "name": "stdout",
          "text": [
            "ilk değer 41\n",
            "son değer 4\n",
            "son değer 4\n",
            "son değer\n",
            " [[103  32]\n",
            " [157 212]]\n"
          ]
        }
      ]
    },
    {
      "cell_type": "markdown",
      "source": [
        "Koşula bağlı seçim işlemleri"
      ],
      "metadata": {
        "id": "ZOKZHMALbqiC"
      }
    },
    {
      "cell_type": "code",
      "source": [
        "#Koşul kontrolü 10 dan büyük sayılar\n",
        "ornek_sayilar> 10"
      ],
      "metadata": {
        "colab": {
          "base_uri": "https://localhost:8080/"
        },
        "id": "YbMbG7XCaTeL",
        "outputId": "9754c60a-37b5-4dbf-a569-acc84bc0c678"
      },
      "execution_count": null,
      "outputs": [
        {
          "output_type": "execute_result",
          "data": {
            "text/plain": [
              "array([[ True,  True,  True,  True],\n",
              "       [ True,  True,  True,  True],\n",
              "       [False,  True,  True,  True],\n",
              "       [ True,  True,  True,  True],\n",
              "       [ True,  True,  True, False]])"
            ]
          },
          "metadata": {},
          "execution_count": 69
        }
      ]
    },
    {
      "cell_type": "code",
      "source": [
        "#Koşul kontrolü 30 dan küçük sayılar\n",
        "ornek_sayilar< 30"
      ],
      "metadata": {
        "colab": {
          "base_uri": "https://localhost:8080/"
        },
        "id": "MxJJYrOeaYbe",
        "outputId": "3ab8cda9-d58b-45fe-8bcd-40639f25a152"
      },
      "execution_count": null,
      "outputs": [
        {
          "output_type": "execute_result",
          "data": {
            "text/plain": [
              "array([[False, False,  True, False],\n",
              "       [False, False, False, False],\n",
              "       [ True, False, False, False],\n",
              "       [False, False, False, False],\n",
              "       [False, False,  True,  True]])"
            ]
          },
          "metadata": {},
          "execution_count": 70
        }
      ]
    },
    {
      "cell_type": "code",
      "source": [
        "#Koşullu seçim 10 dan büyük sayılar\n",
        "ornek_sayilar[ornek_sayilar> 10]"
      ],
      "metadata": {
        "colab": {
          "base_uri": "https://localhost:8080/"
        },
        "id": "xkFDxLaQacGK",
        "outputId": "a0a147af-6f2f-41eb-8f58-8d141e20643b"
      },
      "execution_count": null,
      "outputs": [
        {
          "output_type": "execute_result",
          "data": {
            "text/plain": [
              "array([ 41, 194,  22, 188, 117, 103,  32, 231, 157, 212, 225, 161, 111,\n",
              "       159, 243,  37,  80,  19])"
            ]
          },
          "metadata": {},
          "execution_count": 73
        }
      ]
    },
    {
      "cell_type": "code",
      "source": [
        "#Koşullu seçim 30 dan küçük sayılar\n",
        "ornek_sayilar[ornek_sayilar< 30]"
      ],
      "metadata": {
        "colab": {
          "base_uri": "https://localhost:8080/"
        },
        "id": "IyT3aV1BbE6e",
        "outputId": "6d084a91-95bd-488f-8216-9a304856e21c"
      },
      "execution_count": null,
      "outputs": [
        {
          "output_type": "execute_result",
          "data": {
            "text/plain": [
              "array([22,  2, 19,  4])"
            ]
          },
          "metadata": {},
          "execution_count": 72
        }
      ]
    },
    {
      "cell_type": "code",
      "source": [
        "#Koşullu seçim 30 dan küçük ve 10 dan büyük sayılar parantez önemli!!\n",
        "ornek_sayilar[(ornek_sayilar< 30) & (ornek_sayilar> 10)]"
      ],
      "metadata": {
        "colab": {
          "base_uri": "https://localhost:8080/"
        },
        "id": "dCE0OcJJlssA",
        "outputId": "1ec38bbc-e9f4-4db5-fe71-b3589af9ff31"
      },
      "execution_count": null,
      "outputs": [
        {
          "output_type": "execute_result",
          "data": {
            "text/plain": [
              "array([22, 19])"
            ]
          },
          "metadata": {},
          "execution_count": 78
        }
      ]
    },
    {
      "cell_type": "markdown",
      "source": [
        "Numpy dizilerinde işlemler"
      ],
      "metadata": {
        "id": "jTgknia7meKI"
      }
    },
    {
      "cell_type": "code",
      "source": [
        "yeni_sayilar=np.random.randint(1,50,15)\n",
        "yeni_sayilar"
      ],
      "metadata": {
        "colab": {
          "base_uri": "https://localhost:8080/"
        },
        "id": "KbxeHVhimd1e",
        "outputId": "4bd9122d-c712-4683-ff8f-486ae2f86334"
      },
      "execution_count": null,
      "outputs": [
        {
          "output_type": "execute_result",
          "data": {
            "text/plain": [
              "array([27, 26, 46,  1,  4, 24, 47,  9, 49, 18, 25,  3, 26, 33, 38])"
            ]
          },
          "metadata": {},
          "execution_count": 81
        }
      ]
    },
    {
      "cell_type": "code",
      "source": [
        "print(\"Sayılar=\",yeni_sayilar)\n",
        "print(\"Toplam= \",yeni_sayilar+yeni_sayilar)\n",
        "print(\"Fark= \",yeni_sayilar-yeni_sayilar)\n",
        "print(\"Çarpım= \",yeni_sayilar*yeni_sayilar)\n",
        "print(\"Bölme= \",yeni_sayilar/yeni_sayilar)\n",
        "print(\"Bölümünden kalan= \",yeni_sayilar%yeni_sayilar)"
      ],
      "metadata": {
        "colab": {
          "base_uri": "https://localhost:8080/"
        },
        "id": "ogpK3zLnnd-o",
        "outputId": "0be7f7b6-81a5-4bed-a6d0-87a75ca59339"
      },
      "execution_count": null,
      "outputs": [
        {
          "output_type": "stream",
          "name": "stdout",
          "text": [
            "Toplam=  [54 52 92  2  8 48 94 18 98 36 50  6 52 66 76]\n",
            "Fark=  [0 0 0 0 0 0 0 0 0 0 0 0 0 0 0]\n",
            "Çarpım=  [ 729  676 2116    1   16  576 2209   81 2401  324  625    9  676 1089\n",
            " 1444]\n",
            "Bölme=  [1. 1. 1. 1. 1. 1. 1. 1. 1. 1. 1. 1. 1. 1. 1.]\n",
            "Bölümünden kalan=  [0 0 0 0 0 0 0 0 0 0 0 0 0 0 0]\n"
          ]
        }
      ]
    },
    {
      "cell_type": "code",
      "source": [
        "print(\"Sayılar=\",yeni_sayilar)\n",
        "print(\"50 fazlası= \",yeni_sayilar+50)\n",
        "print(\"50 eksiği= \",yeni_sayilar-50)\n",
        "print(\"2 katı= \",yeni_sayilar*2)\n",
        "print(\"yarısı= \",yeni_sayilar/2)"
      ],
      "metadata": {
        "colab": {
          "base_uri": "https://localhost:8080/"
        },
        "id": "oIvK49_rnhAI",
        "outputId": "7cbd75ac-7959-4da3-e965-28c2f9f57b28"
      },
      "execution_count": null,
      "outputs": [
        {
          "output_type": "stream",
          "name": "stdout",
          "text": [
            "Sayılar= [27 26 46  1  4 24 47  9 49 18 25  3 26 33 38]\n",
            "50 fazlası=  [77 76 96 51 54 74 97 59 99 68 75 53 76 83 88]\n",
            "50 eksiği=  [-23 -24  -4 -49 -46 -26  -3 -41  -1 -32 -25 -47 -24 -17 -12]\n",
            "2 katı=  [54 52 92  2  8 48 94 18 98 36 50  6 52 66 76]\n",
            "yarısı=  [13.5 13.  23.   0.5  2.  12.  23.5  4.5 24.5  9.  12.5  1.5 13.  16.5\n",
            " 19. ]\n"
          ]
        }
      ]
    },
    {
      "cell_type": "code",
      "source": [
        "yeni_sayilar*yeni_sayilar"
      ],
      "metadata": {
        "colab": {
          "base_uri": "https://localhost:8080/"
        },
        "id": "osCHqgKdnjBo",
        "outputId": "67624afe-6e3d-4df8-a820-95ee7a5283c7"
      },
      "execution_count": null,
      "outputs": [
        {
          "output_type": "execute_result",
          "data": {
            "text/plain": [
              "array([ 729,  676, 2116,    1,   16,  576, 2209,   81, 2401,  324,  625,\n",
              "          9,  676, 1089, 1444])"
            ]
          },
          "metadata": {},
          "execution_count": 84
        }
      ]
    },
    {
      "cell_type": "code",
      "source": [
        "print(\"Sayılar=\",yeni_sayilar)\n",
        "print(\"Sinüs değerleri=\",np.sin(yeni_sayilar))\n",
        "print(\"Kosinüs değerleri=\",np.cos(yeni_sayilar))\n",
        "print(\"Tanjant değerleri=\",np.tan(yeni_sayilar))\n",
        "print(\"Logaritmik değerleri=\",np.log(yeni_sayilar))"
      ],
      "metadata": {
        "colab": {
          "base_uri": "https://localhost:8080/"
        },
        "id": "l4OCzG7CnmZk",
        "outputId": "f48ee52d-3d7f-43d8-cc19-ac68c305e445"
      },
      "execution_count": null,
      "outputs": [
        {
          "output_type": "stream",
          "name": "stdout",
          "text": [
            "Sayılar= [27 26 46  1  4 24 47  9 49 18 25  3 26 33 38]\n",
            "Sinüs değerleri= [ 0.95637593  0.76255845  0.90178835  0.84147098 -0.7568025  -0.90557836\n",
            "  0.12357312  0.41211849 -0.95375265 -0.75098725 -0.13235175  0.14112001\n",
            "  0.76255845  0.99991186  0.29636858]\n",
            "Kosinüs değerleri= [-0.29213881  0.64691932 -0.43217794  0.54030231 -0.65364362  0.42417901\n",
            " -0.99233547 -0.91113026  0.30059254  0.66031671  0.99120281 -0.9899925\n",
            "  0.64691932 -0.01327675  0.95507364]\n",
            "Tanjant değerleri= [ -3.2737038    1.17875355  -2.08661353   1.55740772   1.15782128\n",
            "  -2.1348967   -0.12452757  -0.45231566  -3.17290855  -1.13731371\n",
            "  -0.13352641  -0.14254654   1.17875355 -75.3130148    0.31030966]\n",
            "Logaritmik değerleri= [3.29583687 3.25809654 3.8286414  0.         1.38629436 3.17805383\n",
            " 3.8501476  2.19722458 3.8918203  2.89037176 3.21887582 1.09861229\n",
            " 3.25809654 3.49650756 3.63758616]\n"
          ]
        }
      ]
    }
  ]
}